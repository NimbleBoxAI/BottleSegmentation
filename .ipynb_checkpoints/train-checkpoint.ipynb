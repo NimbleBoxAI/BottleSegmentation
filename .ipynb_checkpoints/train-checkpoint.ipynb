{
 "cells": [
  {
   "cell_type": "code",
   "execution_count": 49,
   "metadata": {},
   "outputs": [],
   "source": [
    "from pycocotools.coco import COCO\n",
    "import numpy as np\n",
    "import random\n",
    "import os\n",
    "import cv2\n",
    "from PIL import Image\n",
    "import matplotlib.pyplot as plt\n",
    "from skimage.transform import resize\n",
    "import segmentation_models_pytorch as smp\n",
    "from sklearn.model_selection import train_test_split\n",
    "%matplotlib inline"
   ]
  },
  {
   "cell_type": "code",
   "execution_count": 44,
   "metadata": {},
   "outputs": [],
   "source": [
    "annFile='coco/annotations_trainval2017/annotations/instances_train2017.json'"
   ]
  },
  {
   "cell_type": "code",
   "execution_count": 45,
   "metadata": {},
   "outputs": [
    {
     "name": "stdout",
     "output_type": "stream",
     "text": [
      "loading annotations into memory...\n",
      "Done (t=74.29s)\n",
      "creating index...\n",
      "index created!\n"
     ]
    }
   ],
   "source": [
    "coco=COCO(annFile)"
   ]
  },
  {
   "cell_type": "code",
   "execution_count": 46,
   "metadata": {},
   "outputs": [],
   "source": [
    "catIDs = coco.getCatIds()\n",
    "cats = coco.loadCats(catIDs)\n",
    "img_Ids = coco.getImgIds(catIds=44)"
   ]
  },
  {
   "cell_type": "code",
   "execution_count": 48,
   "metadata": {},
   "outputs": [
    {
     "data": {
      "text/plain": [
       "8501"
      ]
     },
     "execution_count": 48,
     "metadata": {},
     "output_type": "execute_result"
    }
   ],
   "source": [
    "len(img_Ids)"
   ]
  },
  {
   "cell_type": "code",
   "execution_count": 25,
   "metadata": {},
   "outputs": [],
   "source": [
    "from torchvision import datasets, models, transforms\n",
    "import numpy as np\n",
    "import torch\n",
    "from torch import nn\n",
    "from torch.nn import functional as F\n",
    "from torch.utils.data import DataLoader\n",
    "from torchvision import transforms"
   ]
  },
  {
   "cell_type": "code",
   "execution_count": 52,
   "metadata": {},
   "outputs": [],
   "source": [
    "class Dataset(torch.utils.data.Dataset):\n",
    "    'Characterizes a dataset for PyTorch'\n",
    "    def __init__(self, img_id, coco):\n",
    "        'Initialization'\n",
    "        self.img_id = img_id\n",
    "        self.coco = coco\n",
    "        self.transform_img = transforms.Compose([\n",
    "            transforms.Resize((300,300)),\n",
    "            #transforms.CenterCrop(528),\n",
    "            transforms.ColorJitter(hue=.05, saturation=.05),\n",
    "            transforms.ToTensor(),\n",
    "            transforms.Normalize([0.485, 0.456, 0.406], [0.229, 0.224, 0.225])\n",
    "        ])\n",
    "\n",
    "    def __len__(self):\n",
    "        'Denotes the total number of samples'\n",
    "        return len(self.img_id)\n",
    "\n",
    "    def __getitem__(self, index):\n",
    "        'Generates one sample of data'\n",
    "        img = self.coco.loadImgs(self.img_id[index])[0]\n",
    "        annIds = self.coco.getAnnIds(imgIds=img['id'], catIds=44)\n",
    "        anns = self.coco.loadAnns(annIds)\n",
    "        img_file = img['file_name']\n",
    "        image = self.transform_img(Image.open(f'coco/train2017/{img_file}'))\n",
    "        mask = np.zeros((img['height'],img['width']))\n",
    "        mask = np.maximum(self.coco.annToMask(anns[0]), mask)\n",
    "        mask = torch.from_numpy(resize(mask, (300,300)))\n",
    "        return image, mask\n"
   ]
  },
  {
   "cell_type": "code",
   "execution_count": 57,
   "metadata": {},
   "outputs": [],
   "source": [
    "train_imgIds, val_imgIds = train_test_split(img_Ids, test_size=0.15)"
   ]
  },
  {
   "cell_type": "code",
   "execution_count": 58,
   "metadata": {},
   "outputs": [],
   "source": [
    "train_dataset = Dataset(train_imgIds, coco)\n",
    "val_dataset = Dataset(val_imgIds, coco)"
   ]
  },
  {
   "cell_type": "code",
   "execution_count": 59,
   "metadata": {},
   "outputs": [],
   "source": [
    "train_loader = DataLoader(train_dataset, batch_size=6, num_workers=os.cpu_count(),\n",
    "        drop_last=True)\n",
    "val_loader = DataLoader(val_dataset, batch_size=6, num_workers=os.cpu_count(),\n",
    "        drop_last=True)"
   ]
  },
  {
   "cell_type": "code",
   "execution_count": 60,
   "metadata": {},
   "outputs": [
    {
     "name": "stdout",
     "output_type": "stream",
     "text": [
      "torch.Size([6, 3, 300, 300])\n",
      "torch.Size([6, 300, 300])\n"
     ]
    }
   ],
   "source": [
    "for x,y in train_loader:\n",
    "    print(x.shape)\n",
    "    print(y.shape)\n",
    "    break"
   ]
  },
  {
   "cell_type": "code",
   "execution_count": 61,
   "metadata": {},
   "outputs": [
    {
     "name": "stdout",
     "output_type": "stream",
     "text": [
      "torch.Size([6, 3, 300, 300])\n",
      "torch.Size([6, 300, 300])\n"
     ]
    }
   ],
   "source": [
    "for x,y in val_loader:\n",
    "    print(x.shape)\n",
    "    print(y.shape)\n",
    "    break"
   ]
  },
  {
   "cell_type": "code",
   "execution_count": 62,
   "metadata": {},
   "outputs": [],
   "source": [
    "class SegmentationNet(nn.Module):\n",
    "    def __init__(self):\n",
    "        super(SegmentationNet, self).__init__()\n",
    "        self.segnet = smp.DeepLabV3Plus(encoder_name=\"efficientnet-b3\", encoder_weights=\"imagenet\", in_channels=3, classes=1)\n",
    "    def forward(self, x):\n",
    "        x = self.segnet(x)\n",
    "        return x"
   ]
  },
  {
   "cell_type": "code",
   "execution_count": 67,
   "metadata": {},
   "outputs": [],
   "source": [
    "net = SegmentationNet()"
   ]
  },
  {
   "cell_type": "code",
   "execution_count": 68,
   "metadata": {},
   "outputs": [],
   "source": [
    "EPOCHS = 10\n",
    "criterion = nn.MSELoss()\n",
    "optimizer = torch.optim.Adam(net.parameters(), lr=1e-3)"
   ]
  },
  {
   "cell_type": "code",
   "execution_count": null,
   "metadata": {},
   "outputs": [],
   "source": [
    "best_loss = 1e8\n",
    "for i in range(EPOCHS):\n",
    "    total_loss = 0\n",
    "    net.train()\n",
    "    print(\"***Train***\")\n",
    "    for image, mask in train_loader:\n",
    "        output_mask = net(image.cuda())\n",
    "        loss = criterion(output_mask, mask.cuda())\n",
    "        total_loss += loss\n",
    "        optimizer.zero_grad()\n",
    "        loss.backward()\n",
    "        optimizer.step()\n",
    "    print(i, total_loss.item())\n",
    "    net.eval()\n",
    "    total_loss = 0\n",
    "    print(\"***Validation***\")\n",
    "    with torch.no_gard():\n",
    "        for image, mask in val_loader:\n",
    "        output_mask = net(image.cuda())\n",
    "        loss = criterion(output_mask, mask.cuda())\n",
    "        total_loss += loss\n",
    "    val_loss = total_loss.item()\n",
    "    if val_loss<best_loss:\n",
    "        torch.save(net.state_dict(),\"model.pth\")"
   ]
  },
  {
   "cell_type": "code",
   "execution_count": null,
   "metadata": {},
   "outputs": [],
   "source": []
  }
 ],
 "metadata": {
  "kernelspec": {
   "display_name": "Python 3",
   "language": "python",
   "name": "python3"
  }
 },
 "nbformat": 4,
 "nbformat_minor": 4
}
